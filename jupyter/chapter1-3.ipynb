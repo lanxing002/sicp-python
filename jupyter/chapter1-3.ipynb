{
 "cells": [
  {
   "cell_type": "markdown",
   "metadata": {},
   "source": [
    "### 抽象--使用高阶函数\n",
    "- 过程（函数）作为参数\n",
    "- 过程（函数）作为返回值"
   ]
  },
  {
   "cell_type": "code",
   "execution_count": 1,
   "metadata": {},
   "outputs": [
    {
     "name": "stdout",
     "output_type": "stream",
     "text": [
      "0.24999950000000098\n",
      "0.2502000149900124\n"
     ]
    }
   ],
   "source": [
    "# 课程之中的示例, 由于next是python关键字，所以使用then\n",
    "\n",
    "def sum(term, a, then, b):\n",
    "    if a > b:\n",
    "        return 0\n",
    "    else:\n",
    "        return term(a) + sum(term, then(a), then, b)\n",
    "\n",
    "\n",
    "## 数值积分的一个近似函数\n",
    "def integral(f, a, b, dx):\n",
    "    def add_dx(x):\n",
    "        return x + dx\n",
    "    \n",
    "    return sum(f, a + dx / 2.0, add_dx, b) * dx\n",
    "\n",
    "def cube(x):\n",
    "    return x * x * x\n",
    "\n",
    "print(integral(cube, 0, 1, 0.002))\n",
    "print(integral(cube, 0, 1, 0.0006))\n"
   ]
  },
  {
   "cell_type": "code",
   "execution_count": 5,
   "metadata": {},
   "outputs": [
    {
     "name": "stdout",
     "output_type": "stream",
     "text": [
      "0.25000000000000017\n",
      "0.2500000000000003\n"
     ]
    }
   ],
   "source": [
    "# 辛普森数值积分方法\n",
    "def is_even(n):\n",
    "    return n % 2 == 0\n",
    "\n",
    "\n",
    "def sum(f, a, param, n, k):\n",
    "    if k == n:\n",
    "        return f(param(k))\n",
    "    elif k == 0:\n",
    "        return f(param(k)) + sum(f, a, param, n, 1)\n",
    "    else:\n",
    "        if is_even(k):\n",
    "            return 2 * f(param(k)) + sum(f, a, param, n, k + 1)\n",
    "        else:\n",
    "            return 4 * f(param(k)) + sum(f, a, param, n, k + 1)\n",
    "\n",
    "\n",
    "def simpson_integral(f, a, b, n):\n",
    "    def param(k):\n",
    "        return a + k * (b - a) / n\n",
    "    \n",
    "    return sum(f, a, param, n, 0) * (b - a) / (3 * n)\n",
    "\n",
    "print(simpson_integral(cube, 0, 1, 300))\n",
    "print(simpson_integral(cube, 0, 1, 2000))\n",
    "\n",
    "## 从结果来说。辛普森方法确实更加准确\n"
   ]
  },
  {
   "cell_type": "code",
   "execution_count": 13,
   "metadata": {},
   "outputs": [
    {
     "name": "stdout",
     "output_type": "stream",
     "text": [
      "788657867364790503552363213932185062295135977687173263294742533244359449963403342920304284011984623904177212138919638830257642790242637105061926624952829931113462857270763317237396988943922445621451664240254033291864131227428294853277524242407573903240321257405579568660226031904170324062351700858796178922222789623703897374720000000000000000000000000000000000000000000000000\n"
     ]
    }
   ],
   "source": [
    "## python 尾递归的测试\n",
    "\n",
    "def factorial(n):\n",
    "    if n == 1:\n",
    "        return 1\n",
    "    else:\n",
    "        return n * factorial(n - 1)  # 具有表达式，因此需要维护当前的函数栈\n",
    "    \n",
    "\n",
    "def factorial_ite(n, k, product):\n",
    "    if k == n:\n",
    "        return product * k\n",
    "    else:\n",
    "       return factorial_ite(n, k + 1, product * k) \n",
    "\n",
    "def factorial_i(a):\n",
    "    return factorial_ite(a, 1, 1)\n",
    "\n",
    "print(factorial_i(200))\n",
    "\n",
    "# python 本身不支持尾递归的优化，因此就算函数具有尾递归的形式，其依旧不会释放函数栈\n",
    "# print(factorial_i(100000))  出错\n"
   ]
  },
  {
   "cell_type": "code",
   "execution_count": null,
   "metadata": {},
   "outputs": [
    {
     "ename": "",
     "evalue": "",
     "output_type": "error",
     "traceback": [
      "\u001b[1;31mThe Kernel crashed while executing code in the current cell or a previous cell. \n",
      "\u001b[1;31mPlease review the code in the cell(s) to identify a possible cause of the failure. \n",
      "\u001b[1;31mClick <a href='https://aka.ms/vscodeJupyterKernelCrash'>here</a> for more info. \n",
      "\u001b[1;31mView Jupyter <a href='command:jupyter.viewOutput'>log</a> for further details."
     ]
    }
   ],
   "source": [
    "## custom tail recurse\n",
    "import sys\n",
    "sys.set_int_max_str_digits(10000000)\n",
    "\n",
    "\n",
    "def tail_opt(g):\n",
    "    class TailRecurseException(BaseException):\n",
    "        def __init__(self, args, kwargs):\n",
    "            self.args = args\n",
    "            self.kwargs = kwargs\n",
    "\n",
    "    def func(*args, **kwargs):\n",
    "        f = sys._getframe()\n",
    "        if f.f_back and f.f_back.f_back and f.f_back.f_back.f_code == f.f_code:\n",
    "            raise TailRecurseException(args, kwargs)\n",
    "        else:\n",
    "            while 1:\n",
    "                try:\n",
    "                    return g(*args, **kwargs)\n",
    "                except TailRecurseException as e:\n",
    "                    # 捕获异常, 拿到参数, 退出被修饰函数的递归调用栈\n",
    "                    args = e.args\n",
    "                    kwargs = e.kwargs\n",
    "\n",
    "    func.__doc__ = g.__doc__\n",
    "    return func\n",
    "\n",
    "\n",
    "@tail_opt\n",
    "def factorial_i1(n, acc=1):\n",
    "    \"calculate a factorial\"\n",
    "    if n == 0:\n",
    "        return acc\n",
    "    return factorial_i1(n-1, n*acc)\n",
    "# print(factorial_i1(20010))"
   ]
  }
 ],
 "metadata": {
  "kernelspec": {
   "display_name": "Python 3 (ipykernel)",
   "language": "python",
   "name": "python3"
  },
  "language_info": {
   "codemirror_mode": {
    "name": "ipython",
    "version": 3
   },
   "file_extension": ".py",
   "mimetype": "text/x-python",
   "name": "python",
   "nbconvert_exporter": "python",
   "pygments_lexer": "ipython3",
   "version": "3.10.14"
  }
 },
 "nbformat": 4,
 "nbformat_minor": 4
}
