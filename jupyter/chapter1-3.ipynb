{
 "cells": [
  {
   "cell_type": "markdown",
   "metadata": {},
   "source": [
    "### 抽象--使用高阶函数\n",
    "- 过程（函数）作为参数\n",
    "- 过程（函数）作为返回值"
   ]
  },
  {
   "cell_type": "code",
   "execution_count": 7,
   "metadata": {},
   "outputs": [
    {
     "name": "stdout",
     "output_type": "stream",
     "text": [
      "0.24999950000000098\n",
      "0.2502000149900124\n"
     ]
    }
   ],
   "source": [
    "# 课程之中的示例, 由于next是python关键字，所以使用then\n",
    "\n",
    "def sum(term, a, then, b):\n",
    "    if a > b:\n",
    "        return 0\n",
    "    else:\n",
    "        return term(a) + sum(term, then(a), then, b)\n",
    "\n",
    "\n",
    "## 数值积分的一个近似函数\n",
    "def integral(f, a, b, dx):\n",
    "    def add_dx(x):\n",
    "        return x + dx\n",
    "    \n",
    "    return sum(f, a + dx / 2.0, add_dx, b) * dx\n",
    "\n",
    "def cube(x):\n",
    "    return x * x * x\n",
    "\n",
    "print(integral(cube, 0, 1, 0.002))\n",
    "print(integral(cube, 0, 1, 0.0006))\n"
   ]
  },
  {
   "cell_type": "code",
   "execution_count": 8,
   "metadata": {},
   "outputs": [
    {
     "name": "stdout",
     "output_type": "stream",
     "text": [
      "0.25000000000000017\n",
      "0.2500000000000003\n"
     ]
    }
   ],
   "source": [
    "# 辛普森数值积分方法\n",
    "def is_even(n):\n",
    "    return n % 2 == 0\n",
    "\n",
    "\n",
    "def sum(f, a, param, n, k):\n",
    "    if k == n:\n",
    "        return f(param(k))\n",
    "    elif k == 0:\n",
    "        return f(param(k)) + sum(f, a, param, n, 1)\n",
    "    else:\n",
    "        if is_even(k):\n",
    "            return 2 * f(param(k)) + sum(f, a, param, n, k + 1)\n",
    "        else:\n",
    "            return 4 * f(param(k)) + sum(f, a, param, n, k + 1)\n",
    "\n",
    "\n",
    "def simpson_integral(f, a, b, n):\n",
    "    def param(k):\n",
    "        return a + k * (b - a) / n\n",
    "    \n",
    "    return sum(f, a, param, n, 0) * (b - a) / (3 * n)\n",
    "\n",
    "print(simpson_integral(cube, 0, 1, 300))\n",
    "print(simpson_integral(cube, 0, 1, 2000))\n",
    "\n",
    "## 从结果来说。辛普森方法确实更加准确\n"
   ]
  },
  {
   "cell_type": "code",
   "execution_count": 9,
   "metadata": {},
   "outputs": [
    {
     "name": "stdout",
     "output_type": "stream",
     "text": [
      "788657867364790503552363213932185062295135977687173263294742533244359449963403342920304284011984623904177212138919638830257642790242637105061926624952829931113462857270763317237396988943922445621451664240254033291864131227428294853277524242407573903240321257405579568660226031904170324062351700858796178922222789623703897374720000000000000000000000000000000000000000000000000\n"
     ]
    }
   ],
   "source": [
    "## python 尾递归的测试\n",
    "\n",
    "def factorial(n):\n",
    "    if n == 1:\n",
    "        return 1\n",
    "    else:\n",
    "        return n * factorial(n - 1)  # 具有表达式，因此需要维护当前的函数栈\n",
    "    \n",
    "\n",
    "def factorial_ite(n, k, product):\n",
    "    if k == n:\n",
    "        return product * k\n",
    "    else:\n",
    "       return factorial_ite(n, k + 1, product * k) \n",
    "\n",
    "def factorial_i(a):\n",
    "    return factorial_ite(a, 1, 1)\n",
    "\n",
    "print(factorial_i(200))\n",
    "\n",
    "# python 本身不支持尾递归的优化，因此就算函数具有尾递归的形式，其依旧不会释放函数栈\n",
    "# print(factorial_i(100000))  出错\n"
   ]
  },
  {
   "cell_type": "code",
   "execution_count": 25,
   "metadata": {},
   "outputs": [
    {
     "name": "stdout",
     "output_type": "stream",
     "text": [
      "0.24999999999999997\n",
      "0.25\n"
     ]
    }
   ],
   "source": [
    "## custom tail recurse\n",
    "## 发现了一个可以让python完成尾递归的功能\n",
    "## 这个decorator可以将递归转成迭代执行，但是它无法判断所装饰的函数本身是不是尾递归\n",
    "## 因此对于不可以尾递归的函数，这个函数会执行出一个错误的结果\n",
    "\n",
    "import sys\n",
    "\n",
    "def tail_opt(g):\n",
    "    class TailRecurseException(BaseException):\n",
    "        def __init__(self, args, kwargs):\n",
    "            self.args = args\n",
    "            self.kwargs = kwargs\n",
    "\n",
    "    def func(*args, **kwargs):\n",
    "        f = sys._getframe()\n",
    "        if f.f_back and f.f_back.f_back and f.f_back.f_back.f_code == f.f_code:\n",
    "            ## parent.parent的原因是，parent为decorator栈frame\n",
    "            raise TailRecurseException(args, kwargs)  ## 抛出保存函数参数的异常，不然函数进入stack frame\n",
    "        else:\n",
    "            while 1:\n",
    "                try:\n",
    "                    return g(*args, **kwargs)\n",
    "                except TailRecurseException as e:\n",
    "                    # 捕获异常, 拿到参数, 退出被修饰函数的递归调用栈\n",
    "                    args = e.args\n",
    "                    kwargs = e.kwargs\n",
    "\n",
    "    func.__doc__ = g.__doc__\n",
    "    return func\n",
    "\n",
    "\n",
    "@tail_opt  # 屏蔽此行会出现栈错误\n",
    "def sum_ite(f, a, param, n, k, ans):\n",
    "    if k == n:\n",
    "        return f(param(k)) + ans\n",
    "    elif k == 0:\n",
    "        return sum_ite(f, a, param, n, 1, f(param(k)))\n",
    "    else:\n",
    "        if is_even(k):\n",
    "            return sum_ite(f, a, param, n, k + 1, 2 * f(param(k)) + ans)\n",
    "        else:\n",
    "            return sum_ite(f, a, param, n, k + 1, 4 * f(param(k)) + ans)\n",
    "\n",
    "\n",
    "def simpson_integral(f, a, b, n):\n",
    "    def param(k):\n",
    "        return a + k * (b - a) / n\n",
    "    \n",
    "    return sum_ite(f, a, param, n, 0, 0) * (b - a) / (3 * n)\n",
    "\n",
    "print(simpson_integral(cube, 0, 1, 300))\n",
    "print(simpson_integral(cube, 0, 1, 40))  ## 这个数值积分的方法效果很不错，40次之后可以收敛\n"
   ]
  },
  {
   "cell_type": "code",
   "execution_count": 44,
   "metadata": {},
   "outputs": [
    {
     "name": "stdout",
     "output_type": "stream",
     "text": [
      "3.140023818600586\n",
      "3.1400238186005844\n"
     ]
    }
   ],
   "source": [
    "# 练习 1.31\n",
    "\n",
    "def product(term, a, then, b):\n",
    "    if a > b:\n",
    "        return 1\n",
    "    else:\n",
    "        return term(a) * product(term, then(a), then, b)\n",
    "\n",
    "@tail_opt\n",
    "def product_ite(term, a, then, b, ans):\n",
    "    if a > b :\n",
    "        return ans\n",
    "    else:\n",
    "         return product_ite(term, then(a), then, b, ans * term(a))\n",
    "\n",
    "## 迭代\n",
    "print(product_ite(lambda x: x / (x + 1) if is_even(x) else (x + 1) / x, 2, lambda x : x + 1, 1000, 1) * 4)\n",
    "print(product(lambda x: x / (x + 1) if is_even(x) else (x + 1) / x, 2, lambda x : x + 1, 1000) * 4)\n",
    "\n",
    "# print(product(lambda x: x, 1, lambda x : x + 1, 10200))"
   ]
  }
 ],
 "metadata": {
  "kernelspec": {
   "display_name": "Python 3 (ipykernel)",
   "language": "python",
   "name": "python3"
  },
  "language_info": {
   "codemirror_mode": {
    "name": "ipython",
    "version": 3
   },
   "file_extension": ".py",
   "mimetype": "text/x-python",
   "name": "python",
   "nbconvert_exporter": "python",
   "pygments_lexer": "ipython3",
   "version": "3.10.14"
  }
 },
 "nbformat": 4,
 "nbformat_minor": 4
}
