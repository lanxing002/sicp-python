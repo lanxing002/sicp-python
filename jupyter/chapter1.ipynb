{
 "cells": [
  {
   "cell_type": "markdown",
   "metadata": {},
   "source": [
    "#### 简述\n",
    "这一单元主要讲述过程的抽象，从表达式到组合式，再到过程；期间伴随抽象。\n",
    "\n",
    "#### 两种递归\n",
    "- 线性递归（计算模型）：对于一个可以使用线性递解决的问题，可以使用线性递归或者迭代计算过程计算，两者存在转换管理。在高级语言中，线性迭代会使用`for`、`while`等语法糖。而递归一般都具有尾递归的形式。\n",
    "对于递归来说，都是先展开，然后在规约.如下图所示：\n",
    "![](.static/2024-08-20-15-03-19.png)\n",
    "![](.static/2024-08-20-14-59-35.png)\n",
    "\n",
    "对于迭代来说，不会再维持一个函数栈\n",
    "![](.static/2024-08-20-15-03-28.png)\n",
    "![](.static/2024-08-20-15-01-21.png)\n",
    "\n",
    "其差别在于返回的时候，递归会返回一个表达式，而迭代会返回一个函数调用；其中表达式需要知道函数的返回值之后再求值，而函数调用则可以不用维护当前调用环境。这就是两者之间**差异**。\n",
    "\n",
    "- 树形递归（计算模型） 树形递归，如果自顶向下计算，会存在大量的冗余计算，如果自底向上计算并将上一步需要的结果储存起来，可以极大的增快计算速度(一般被称为动态规划)。\n",
    "\n",
    "线性的递归，维护了一些中间的变量；所以只要知道某一个节点这些变量值，可以知道当前节点的计算结果。\n",
    "而树形递归，想要只要任何一个中间节点的结果，都需要对递归的路径展开合并，来计算结果。\n",
    "\n",
    "树形的递归非常符合人类的直观理解。\n",
    "\n",
    "![斐波拉数列](.static/2024-08-19-10-28-14.png)\n"
   ]
  },
  {
   "cell_type": "code",
   "execution_count": 22,
   "metadata": {},
   "outputs": [],
   "source": [
    "## 代码准则，只使用第一章中能和所介绍sheme语法完全对应的python语法\n",
    "\n",
    "import time\n",
    "\n",
    "def timer(func):\n",
    "    def wrapper(*args, **kwargs):\n",
    "        start_time = time.time()  # 记录开始时间\n",
    "        result = func(*args, **kwargs)  # 执行被装饰的函数\n",
    "        end_time = time.time()  # 记录结束时间\n",
    "        elapsed_time = end_time - start_time  # 计算执行时间\n",
    "        print(f\"Function '{func.__name__}' took {elapsed_time:.8f} seconds to complete.\")\n",
    "        return result\n",
    "    return wrapper\n"
   ]
  },
  {
   "cell_type": "markdown",
   "metadata": {},
   "source": [
    "exercies 1.16\n",
    "求幂, 使用迭代过程求幂是一个很简单的模型，使用二分思想，可以将求幂从常熟时间优化到对数时间。先实现这一个方法\n",
    "![](.static/2024-08-19-10-39-51.png)"
   ]
  },
  {
   "cell_type": "code",
   "execution_count": 23,
   "metadata": {},
   "outputs": [],
   "source": [
    "def is_even(x):\n",
    "    return x % 2 == 0\n",
    "\n",
    "def fast_expt(b, n):\n",
    "    if n == 0:\n",
    "        return 1\n",
    "    elif is_even(n):\n",
    "        return fast_expt(b, n//2) ** 2  # 这里将平方看作一个基本运算符，而不是一个函数，本质一样\n",
    "    else:\n",
    "        return b * fast_expt(b, n-1)\n",
    "\n",
    "for x in range(8000):\n",
    "    fast_expt(2, 2200)"
   ]
  },
  {
   "cell_type": "code",
   "execution_count": 24,
   "metadata": {},
   "outputs": [],
   "source": [
    "def expt(b, n):\n",
    "    if n == 0:\n",
    "        return 1\n",
    "    return b * expt(b, n - 1)\n",
    "\n",
    "for x in range(8000):\n",
    "    expt(2, 2200)"
   ]
  },
  {
   "cell_type": "markdown",
   "metadata": {},
   "source": [
    "fast-expt使用了0.4s，而使用线性递归的expt却使用了26.4s。这就是指数级别差异。fast-expt当然也存在线性递归的计算方式，重要的怎么找出它，这是一个联系，其关键思路在于：\n",
    "![](.static/2024-08-19-11-22-40.png)\n",
    "\n",
    "虽然利用该提示可以凑出解题思路，但是更重要的是如何泛化该思路，使其具有通用性。当实现完以下的思路时候，发现自己的思路被很久之前的动态规划思路限制了，总是将其与之前做过的某些经典题型对象，但是这个提的`状态表很简单`，但是隐藏的很深，也很难发现。"
   ]
  },
  {
   "cell_type": "code",
   "execution_count": 25,
   "metadata": {},
   "outputs": [],
   "source": [
    "## 线性迭代的实现\n",
    "def fast_expt_linear(b, n, a):\n",
    "    if n == 0:\n",
    "        return a\n",
    "    elif n==1:\n",
    "        return b * a\n",
    "    if is_even(n):\n",
    "        return fast_expt_linear(b ** 2, n // 2, a)\n",
    "    else:\n",
    "        return fast_expt_linear(b ** 2, (n - 1) // 2, a * b)\n",
    "\n",
    "## 正确性验证\n",
    "# assert(fast_expt(2, 0) ==  fast_expt_linear(2, 0, 1))\n",
    "# assert(fast_expt(2, 1) ==  fast_expt_linear(2, 1, 1))\n",
    "# assert(fast_expt(2, 2) ==  fast_expt_linear(2, 2, 1))\n",
    "# assert(fast_expt(2, 2321) ==  fast_expt_linear(2, 2321, 1))\n",
    "\n",
    "for x in range(80000):\n",
    "    fast_expt_linear(2, 2200, 1)"
   ]
  },
  {
   "cell_type": "markdown",
   "metadata": {},
   "source": [
    "以下是exercise 1.18和exercise 1.19，将作为以上思路的一种加强练习："
   ]
  },
  {
   "cell_type": "code",
   "execution_count": 26,
   "metadata": {},
   "outputs": [],
   "source": [
    "## 基于加，加倍和折半操作实现正数的乘法：\n",
    "def add(a, b):\n",
    "    return a + b\n",
    "\n",
    "def half(a):\n",
    "    return a // 2\n",
    "\n",
    "def double(a):\n",
    "    return a * 2\n",
    "    \n",
    "## 已经有了幂操作的实现经验，如法炮制即可\n",
    "def mult_fast(a, b, c):\n",
    "    if b == 0:\n",
    "        return 0\n",
    "    elif b == 1:\n",
    "        return a + c\n",
    "    elif is_even(b):\n",
    "        return mult_fast(double(a), half(b), c)\n",
    "    else:\n",
    "        return mult_fast(double(a), half(b - 1), add(a, c))\n",
    "\n",
    "# assert(mult_fast(10432, 104320, 0) == 10432 *104320)\n",
    "for x in range(8000):\n",
    "    mult_fast(10432, 104320, 0)"
   ]
  },
  {
   "cell_type": "code",
   "execution_count": 27,
   "metadata": {},
   "outputs": [],
   "source": [
    "def mult_simple(a, b):\n",
    "    if a == 0 or b == 0:\n",
    "        return 0\n",
    "    else:\n",
    "        return a + mult_simple(a, b - 1)\n",
    "    \n",
    "for x in range(8000):\n",
    "    mult_simple(10432, 1000)"
   ]
  },
  {
   "cell_type": "markdown",
   "metadata": {},
   "source": [
    "可以看到，fast是0.4s，而simple是9.5s，对数级别的增速。。。"
   ]
  },
  {
   "cell_type": "markdown",
   "metadata": {},
   "source": [
    "### 1.2.5 最大公倍数\n",
    "![](.static/2024-08-19-12-46-32.png)\n",
    "以上便是最大公倍数的核心思路，这个方法被称为欧几里得算法。"
   ]
  },
  {
   "cell_type": "code",
   "execution_count": 28,
   "metadata": {},
   "outputs": [
    {
     "name": "stdout",
     "output_type": "stream",
     "text": [
      "10\n"
     ]
    }
   ],
   "source": [
    "def gcd(a, b):\n",
    "    if b == 0:\n",
    "        return a\n",
    "    else: \n",
    "        return gcd(b, a % b)  # 这里如果使用正则序，先展开然后规约，那么会形成一个树形递归。\n",
    "    \n",
    "print(gcd(12100, 430))"
   ]
  },
  {
   "attachments": {
    "image.png": {
     "image/png": "[encoded data removed]"
    }
   },
   "cell_type": "markdown",
   "metadata": {},
   "source": [
    "### 1.2.6 素数检测\n",
    "对于一个树n，如何检测其为素数呢？朴素想法为从1-n依次除n,存在一个能除尽的树，它就不是素数。可以简单优化一下，将范围缩小至[0, n/2]。更加有效的方法是，费马检测：\n",
    "![](.static/2024-08-19-13-00-46.png)\n",
    "\n",
    "![image.png](attachment:image.png)\n",
    "\n",
    "注意：满足费马定理的一定是素数，但是非素数有可能也满足费马小定理，而费马检测有效是基于以下的事实：满足费马小定理的非素数非常少。。。\n",
    "\n",
    "![](.static/2024-08-19-13-01-56.png)\n"
   ]
  },
  {
   "cell_type": "code",
   "execution_count": 29,
   "metadata": {},
   "outputs": [
    {
     "name": "stdout",
     "output_type": "stream",
     "text": [
      "199\n",
      "1999\n",
      "7\n"
     ]
    }
   ],
   "source": [
    "# 先实现一个简单的素数查找func\n",
    "\n",
    "def find_divisor(n , test_divisor):\n",
    "    def next_d(d):\n",
    "        return d + 1\n",
    "\n",
    "    if test_divisor ** 2 > n:\n",
    "        return n\n",
    "    elif n % test_divisor == 0:\n",
    "        return test_divisor\n",
    "    else:\n",
    "        return find_divisor(n, next_d(test_divisor))\n",
    "\n",
    "\n",
    "\n",
    "def smallest_divisor(n):\n",
    "    return find_divisor(n , 2)\n",
    "\n",
    "smallest_divisor(2516)\n",
    "print(smallest_divisor(199))\n",
    "print(smallest_divisor(1999))\n",
    "print(smallest_divisor(19999))"
   ]
  },
  {
   "cell_type": "code",
   "execution_count": 30,
   "metadata": {},
   "outputs": [],
   "source": [
    "## 为了完成费马测试，先实现一个简单的 幂取模\n",
    "def is_even(x):\n",
    "    return x % 2 == 0\n",
    "\n",
    "def remainder(a, b):\n",
    "    return a % b  # 有时间将这个优化一下\n",
    "\n",
    "def expmod(base, exp, m):\n",
    "    if exp == 0:\n",
    "        return 1\n",
    "    elif is_even(exp):\n",
    "        return remainder(expmod(base, exp // 2, m) ** 2, m)\n",
    "    else:\n",
    "        return remainder(expmod(base, exp-1, m) * base, m)\n",
    "\n",
    "assert(expmod(2, 11, 7) == ((2 ** 11) % 7))\n",
    "assert(expmod(8, 21, 7) == ((8 ** 21) % 7))"
   ]
  },
  {
   "cell_type": "code",
   "execution_count": 31,
   "metadata": {},
   "outputs": [],
   "source": [
    "## 费马测试\n",
    "import random\n",
    "\n",
    "def fermat_test(n):   # false 一定不是素数，true，大概率是素数\n",
    "    def try_it(a):\n",
    "        return expmod(a, n, n) == a\n",
    "    return try_it(random.randint(1, n-1))\n",
    "\n",
    "\n",
    "def fast_prime(n, times):\n",
    "    if times == 0:\n",
    "        return True\n",
    "    elif fermat_test(n):\n",
    "        return fast_prime(n ,times - 1)\n",
    "    else:\n",
    "        return False\n",
    "\n",
    "assert(fast_prime(904283, 30))\n"
   ]
  },
  {
   "cell_type": "code",
   "execution_count": null,
   "metadata": {},
   "outputs": [],
   "source": [
    "\n"
   ]
  },
  {
   "cell_type": "code",
   "execution_count": 32,
   "metadata": {},
   "outputs": [
    {
     "name": "stdout",
     "output_type": "stream",
     "text": [
      "Function 'find_3_prime' took 0.85430002 seconds to complete.\n",
      "Function 'find_3_prime' took 1.19195247 seconds to complete.\n",
      "Function 'find_3_prime' took 1.51901627 seconds to complete.\n",
      "Function 'find_3_prime' took 1.68129563 seconds to complete.\n"
     ]
    }
   ],
   "source": [
    "def prime(n):\n",
    "    return fast_prime(n, 40)\n",
    "\n",
    "# 素数的查找时间测试\n",
    "@timer\n",
    "def find_3_prime(s):\n",
    "    def impl(s):\n",
    "        ret = []\n",
    "        while len(ret) < 3:\n",
    "            if prime(s):\n",
    "                ret.append(s)\n",
    "            s += 1\n",
    "    for x in range(1000):\n",
    "        impl(s)\n",
    "\n",
    "find_3_prime(1000)\n",
    "find_3_prime(10000)\n",
    "find_3_prime(100000)\n",
    "find_3_prime(1000000)\n",
    "\n",
    "# Function 'find_3_prime' took 0.84503913 seconds to complete.\n",
    "# Function 'find_3_prime' took 1.21263123 seconds to complete.\n",
    "# Function 'find_3_prime' took 1.52242041 seconds to complete.\n",
    "# Function 'find_3_prime' took 1.69216442 seconds to complete."
   ]
  },
  {
   "cell_type": "code",
   "execution_count": 33,
   "metadata": {},
   "outputs": [
    {
     "name": "stdout",
     "output_type": "stream",
     "text": [
      "Function 'smallest_divisor_ts' took 1.21134663 seconds to complete.\n",
      "Function 'smallest_divisor_f' took 0.64177203 seconds to complete.\n"
     ]
    }
   ],
   "source": [
    "# exercise 1.23\n",
    "@timer\n",
    "def smallest_divisor_ts(x):\n",
    "    for x in range(120000):\n",
    "        smallest_divisor(x)\n",
    "\n",
    "\n",
    "# 更快版本的测试\n",
    "def find_divisor_f(n , test_divisor):\n",
    "    def next_d(t):\n",
    "        if t == 2:\n",
    "            return 3\n",
    "        else:\n",
    "            return t + 2\n",
    "\n",
    "    if test_divisor ** 2 > n:\n",
    "        return n\n",
    "    elif n % test_divisor == 0:\n",
    "        return test_divisor\n",
    "    else:\n",
    "        return find_divisor_f(n, next_d(test_divisor))\n",
    "\n",
    "@timer\n",
    "def smallest_divisor_f(n):\n",
    "    for x in range(120000):\n",
    "        find_divisor_f(x, 2)\n",
    "\n",
    "smallest_divisor_ts(112233123)\n",
    "\n",
    "smallest_divisor_f(21311)"
   ]
  },
  {
   "cell_type": "code",
   "execution_count": 34,
   "metadata": {},
   "outputs": [
    {
     "name": "stdout",
     "output_type": "stream",
     "text": [
      "True\n",
      "True\n",
      "True\n",
      "True\n",
      "True\n",
      "True\n"
     ]
    }
   ],
   "source": [
    "## 能通过费马检测的非素数\n",
    "## 100,000,000有561， 1105， 1729， 2465，2821，6601\n",
    "\n",
    "for x in [561, 1105, 1729, 2465, 2821, 6601]:\n",
    "    print(prime(x)) "
   ]
  },
  {
   "cell_type": "code",
   "execution_count": 35,
   "metadata": {},
   "outputs": [
    {
     "name": "stdout",
     "output_type": "stream",
     "text": [
      "False\n",
      "False\n",
      "False\n",
      "False\n",
      "False\n",
      "False\n",
      "True\n",
      "True\n",
      "True\n"
     ]
    }
   ],
   "source": [
    "# miller rabin 检测\n",
    "# 检测原理，对于一个需要检测的数n，对于一个[1, n-1]的数字a，如果a平方取模n为1，n就不是素数。对于非素数奇数n，至少有一半的a<n，a的平方取模为1。\n",
    "# 因此每次检测结果错误概率都将减半，\n",
    "\n",
    "def nontrivial_square_root(n, a):\n",
    "    if a != 1 and a != (n -1):\n",
    "        return 1 == remainder(a ** 2, n)\n",
    "    else:\n",
    "        return False\n",
    "    \n",
    "\n",
    "def expmod(base, exp, m):\n",
    "    if exp == 0:\n",
    "        return 1\n",
    "    elif nontrivial_square_root(m, base):\n",
    "        return 0  # 不是素数\n",
    "    elif is_even(exp):\n",
    "        return remainder(expmod(base, exp // 2, m) ** 2, m)\n",
    "    else:\n",
    "        return remainder(expmod(base, exp-1, m) * base, m)\n",
    "    \n",
    "def miller_rabin_test(n):   # false 一定不是素数，true，大概率是素数\n",
    "    def try_it(a):\n",
    "        return expmod(a, n-1, n) == 1\n",
    "    return try_it(random.randint(1, n-1))\n",
    "\n",
    "\n",
    "def fast_prime(n, times):\n",
    "    if times == 0:\n",
    "        return True\n",
    "    elif miller_rabin_test(n):\n",
    "        return fast_prime(n ,times - 1)\n",
    "    else:\n",
    "        return False\n",
    "    \n",
    "for x in [561, 1105, 1729, 2465, 2821, 6601]:  # \n",
    "    print(fast_prime(x, 30)) \n",
    "\n",
    "for x in [999169, 999907, 999239]: # 真正素数\n",
    "    print(fast_prime(x, 30)) "
   ]
  }
 ],
 "metadata": {
  "kernelspec": {
   "display_name": "Python 3 (ipykernel)",
   "language": "python",
   "name": "python3"
  },
  "language_info": {
   "codemirror_mode": {
    "name": "ipython",
    "version": 3
   },
   "file_extension": ".py",
   "mimetype": "text/x-python",
   "name": "python",
   "nbconvert_exporter": "python",
   "pygments_lexer": "ipython3",
   "version": "3.10.14"
  }
 },
 "nbformat": 4,
 "nbformat_minor": 4
}
